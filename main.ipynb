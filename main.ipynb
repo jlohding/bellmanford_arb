{
 "cells": [
  {
   "cell_type": "code",
   "execution_count": 1,
   "metadata": {},
   "outputs": [],
   "source": [
    "import requests\n",
    "\n",
    "import numpy as np\n",
    "import pandas as pd"
   ]
  },
  {
   "cell_type": "markdown",
   "metadata": {},
   "source": [
    "### Using TraderMade REST API for historical data"
   ]
  },
  {
   "cell_type": "code",
   "execution_count": 2,
   "metadata": {},
   "outputs": [],
   "source": [
    "API_KEY = \"api_key_here\""
   ]
  },
  {
   "cell_type": "code",
   "execution_count": 3,
   "metadata": {},
   "outputs": [],
   "source": [
    "def request_pair(src:str, dst:str, start_date:str=\"2022-11-29 08:30\", end_date:str=\"2022-11-29 09:00\"):\n",
    "    req = f\"https://marketdata.tradermade.com/api/v1/tick_historical_sample/{src}{dst}/{start_date}/{end_date}?api_key={API_KEY}&format=json\"\n",
    "    resp = requests.get(req)\n",
    "    return resp         \n",
    "\n",
    "def parse_json(resp) -> pd.DataFrame:\n",
    "    json_df = pd.DataFrame(resp.json())\n",
    "    df = pd.DataFrame(json_df[\"quotes\"].to_list())\n",
    "    df[[\"from\",\"to\"]] = df[\"inst\"].str.extract('(.{3,3})' * 2)\n",
    "    df = df.drop(columns=\"inst\")\n",
    "    \n",
    "    df[\"start_date\"] = json_df[\"start_date\"]\n",
    "    df[\"end_date\"] = json_df[\"end_date\"]\n",
    "    return df\n",
    "\n",
    "def save_frame(df:pd.DataFrame, name:str) -> None:\n",
    "    df.to_pickle(f\"{name}.pickle\")\n",
    "\n",
    "def download(src, dst):\n",
    "    try:\n",
    "        resp = request_pair(src, dst)\n",
    "        df = parse_json(resp)\n",
    "        save_frame(df, f\"{src}{dst}\")\n",
    "    except Exception as e:\n",
    "        print(\"error\")\n",
    "        print(resp.json())\n",
    "\n",
    "#download(\"GBP\", \"USD\")"
   ]
  },
  {
   "cell_type": "markdown",
   "metadata": {},
   "source": [
    "### Setup Data"
   ]
  },
  {
   "cell_type": "code",
   "execution_count": 7,
   "metadata": {},
   "outputs": [
    {
     "ename": "FileNotFoundError",
     "evalue": "[Errno 2] No such file or directory: '\\\\data\\\\BTCJPY.pickle'",
     "output_type": "error",
     "traceback": [
      "\u001b[0;31m---------------------------------------------------------------------------\u001b[0m",
      "\u001b[0;31mFileNotFoundError\u001b[0m                         Traceback (most recent call last)",
      "\u001b[1;32m/mnt/c/Users/jerry/Desktop/UNI/Projects/bellmanford_arb/main.ipynb Cell 6\u001b[0m in \u001b[0;36m<cell line: 13>\u001b[0;34m()\u001b[0m\n\u001b[1;32m     <a href='vscode-notebook-cell://wsl%2Bdebian/mnt/c/Users/jerry/Desktop/UNI/Projects/bellmanford_arb/main.ipynb#W5sdnNjb2RlLXJlbW90ZQ%3D%3D?line=11'>12</a>\u001b[0m dfs \u001b[39m=\u001b[39m []\n\u001b[1;32m     <a href='vscode-notebook-cell://wsl%2Bdebian/mnt/c/Users/jerry/Desktop/UNI/Projects/bellmanford_arb/main.ipynb#W5sdnNjb2RlLXJlbW90ZQ%3D%3D?line=12'>13</a>\u001b[0m \u001b[39mfor\u001b[39;00m src, dst \u001b[39min\u001b[39;00m pair_list:\n\u001b[0;32m---> <a href='vscode-notebook-cell://wsl%2Bdebian/mnt/c/Users/jerry/Desktop/UNI/Projects/bellmanford_arb/main.ipynb#W5sdnNjb2RlLXJlbW90ZQ%3D%3D?line=13'>14</a>\u001b[0m     df \u001b[39m=\u001b[39m pd\u001b[39m.\u001b[39;49mread_pickle(\u001b[39mf\u001b[39;49m\u001b[39m\"\u001b[39;49m\u001b[39m\\\u001b[39;49m\u001b[39mdata\u001b[39;49m\u001b[39m\\\u001b[39;49m\u001b[39m{\u001b[39;49;00msrc\u001b[39m}\u001b[39;49;00m\u001b[39m{\u001b[39;49;00mdst\u001b[39m}\u001b[39;49;00m\u001b[39m.pickle\u001b[39;49m\u001b[39m\"\u001b[39;49m)\n\u001b[1;32m     <a href='vscode-notebook-cell://wsl%2Bdebian/mnt/c/Users/jerry/Desktop/UNI/Projects/bellmanford_arb/main.ipynb#W5sdnNjb2RlLXJlbW90ZQ%3D%3D?line=14'>15</a>\u001b[0m     dfs\u001b[39m.\u001b[39mappend(df)\n",
      "File \u001b[0;32m~/.local/lib/python3.9/site-packages/pandas/io/pickle.py:187\u001b[0m, in \u001b[0;36mread_pickle\u001b[0;34m(filepath_or_buffer, compression, storage_options)\u001b[0m\n\u001b[1;32m    124\u001b[0m \u001b[39m\"\"\"\u001b[39;00m\n\u001b[1;32m    125\u001b[0m \u001b[39mLoad pickled pandas object (or any object) from file.\u001b[39;00m\n\u001b[1;32m    126\u001b[0m \n\u001b[0;32m   (...)\u001b[0m\n\u001b[1;32m    184\u001b[0m \u001b[39m4    4    9\u001b[39;00m\n\u001b[1;32m    185\u001b[0m \u001b[39m\"\"\"\u001b[39;00m  \u001b[39m# noqa: E501\u001b[39;00m\n\u001b[1;32m    186\u001b[0m excs_to_catch \u001b[39m=\u001b[39m (\u001b[39mAttributeError\u001b[39;00m, \u001b[39mImportError\u001b[39;00m, \u001b[39mModuleNotFoundError\u001b[39;00m, \u001b[39mTypeError\u001b[39;00m)\n\u001b[0;32m--> 187\u001b[0m \u001b[39mwith\u001b[39;00m get_handle(\n\u001b[1;32m    188\u001b[0m     filepath_or_buffer,\n\u001b[1;32m    189\u001b[0m     \u001b[39m\"\u001b[39;49m\u001b[39mrb\u001b[39;49m\u001b[39m\"\u001b[39;49m,\n\u001b[1;32m    190\u001b[0m     compression\u001b[39m=\u001b[39;49mcompression,\n\u001b[1;32m    191\u001b[0m     is_text\u001b[39m=\u001b[39;49m\u001b[39mFalse\u001b[39;49;00m,\n\u001b[1;32m    192\u001b[0m     storage_options\u001b[39m=\u001b[39;49mstorage_options,\n\u001b[1;32m    193\u001b[0m ) \u001b[39mas\u001b[39;00m handles:\n\u001b[1;32m    194\u001b[0m \n\u001b[1;32m    195\u001b[0m     \u001b[39m# 1) try standard library Pickle\u001b[39;00m\n\u001b[1;32m    196\u001b[0m     \u001b[39m# 2) try pickle_compat (older pandas version) to handle subclass changes\u001b[39;00m\n\u001b[1;32m    197\u001b[0m     \u001b[39m# 3) try pickle_compat with latin-1 encoding upon a UnicodeDecodeError\u001b[39;00m\n\u001b[1;32m    199\u001b[0m     \u001b[39mtry\u001b[39;00m:\n\u001b[1;32m    200\u001b[0m         \u001b[39m# TypeError for Cython complaints about object.__new__ vs Tick.__new__\u001b[39;00m\n\u001b[1;32m    201\u001b[0m         \u001b[39mtry\u001b[39;00m:\n",
      "File \u001b[0;32m~/.local/lib/python3.9/site-packages/pandas/io/common.py:795\u001b[0m, in \u001b[0;36mget_handle\u001b[0;34m(path_or_buf, mode, encoding, compression, memory_map, is_text, errors, storage_options)\u001b[0m\n\u001b[1;32m    786\u001b[0m         handle \u001b[39m=\u001b[39m \u001b[39mopen\u001b[39m(\n\u001b[1;32m    787\u001b[0m             handle,\n\u001b[1;32m    788\u001b[0m             ioargs\u001b[39m.\u001b[39mmode,\n\u001b[0;32m   (...)\u001b[0m\n\u001b[1;32m    791\u001b[0m             newline\u001b[39m=\u001b[39m\u001b[39m\"\u001b[39m\u001b[39m\"\u001b[39m,\n\u001b[1;32m    792\u001b[0m         )\n\u001b[1;32m    793\u001b[0m     \u001b[39melse\u001b[39;00m:\n\u001b[1;32m    794\u001b[0m         \u001b[39m# Binary mode\u001b[39;00m\n\u001b[0;32m--> 795\u001b[0m         handle \u001b[39m=\u001b[39m \u001b[39mopen\u001b[39;49m(handle, ioargs\u001b[39m.\u001b[39;49mmode)\n\u001b[1;32m    796\u001b[0m     handles\u001b[39m.\u001b[39mappend(handle)\n\u001b[1;32m    798\u001b[0m \u001b[39m# Convert BytesIO or file objects passed with an encoding\u001b[39;00m\n",
      "\u001b[0;31mFileNotFoundError\u001b[0m: [Errno 2] No such file or directory: '\\\\data\\\\BTCJPY.pickle'"
     ]
    }
   ],
   "source": [
    "pair_list = [ \n",
    "    (\"BTC\", \"JPY\"),\n",
    "    (\"BTC\", \"USD\"),\n",
    "    (\"USD\", \"JPY\"),\n",
    "    (\"ETH\", \"JPY\"),\n",
    "    (\"ETH\", \"USD\"),\n",
    "    (\"ETH\", \"BTC\"),\n",
    "]\n",
    "\n",
    "nodes = list(set([x[0] for x in pair_list] + [x[1] for x in pair_list]))\n",
    "\n",
    "dfs = []\n",
    "for src, dst in pair_list:\n",
    "    df = pd.read_pickle(f\"\\data\\{src}{dst}.pickle\")\n",
    "    dfs.append(df)"
   ]
  },
  {
   "cell_type": "code",
   "execution_count": null,
   "metadata": {},
   "outputs": [],
   "source": [
    "combined = pd.concat(dfs)\n",
    "combined = combined.sort_values(by=\"time\")\n",
    "\n",
    "combined"
   ]
  },
  {
   "cell_type": "code",
   "execution_count": null,
   "metadata": {},
   "outputs": [],
   "source": [
    "## Bin ticks into timestamps, (the backtest will lose accuracy)\n",
    "combined[\"bin time\"] = pd.cut(combined[\"time\"], int(combined.shape[0]/2))\n",
    "combined_pt = combined.pivot_table(index=\"bin time\", columns=[\"from\", \"to\"], values=[\"bid\", \"ask\"], aggfunc=\"mean\")\n",
    "\n",
    "### No binning done, (likely no arbs will be found)\n",
    "#combined_pt = combined.pivot_table(index=\"time\", columns=[\"from\", \"to\"], values=[\"bid\", \"ask\", \"exch_rate_out\", \"exch_rate_in\"], aggfunc=\"mean\") # no timestamp bins\n",
    "\n",
    "valid_periods = combined_pt[combined_pt.loc[:, ([\"ask\",\"bid\"], slice(None))].count(axis=1) > 1] # filter rows with <=1 nodes in graph, arb is obviously impossible \n",
    "valid_periods"
   ]
  },
  {
   "cell_type": "markdown",
   "metadata": {},
   "source": [
    "### Bellman-Ford for cycle detection\n",
    "\n",
    "Idea:\n",
    "  - Model each tick as a graph of n nodes (assets), where each edge cost represents the current exchange rate\n",
    "    - Ideally, we have a complete graph with nC2 edges, but there might be some lacking data\n",
    "  - We define the cost of a path as multiplicative and not additive:\n",
    "    - As such, we take the log(exchange rate) as our edge cost instead, since log(a) + log(b) = log(ab)\n",
    "  - If there exists arbitrage in the market, then there exists a negative weighted cycle \n",
    "    - We use n passes of the Bellman-Ford algorithm to detect whether such a cycle exists\n",
    "      - This takes O(VE) time, but since we have a (nearly) complete graph, it is O(V^3) time"
   ]
  },
  {
   "cell_type": "code",
   "execution_count": null,
   "metadata": {},
   "outputs": [],
   "source": [
    "class Graph:\n",
    "    def __init__(self, nodes:list):\n",
    "        '''\n",
    "        Graph DS, implemented as EdgeList\n",
    "        '''\n",
    "        self.nodes = nodes\n",
    "        self.edges = []\n",
    "\n",
    "    def add_edge(self, src, dst, cost) -> None:\n",
    "        self.edges.append((src, dst, -np.log(cost)))\n",
    "\n",
    "    def bellman_ford(self):\n",
    "        dist = {node: np.inf for node in self.nodes}\n",
    "        dist[self.nodes[0]] = 0\n",
    "\n",
    "        parent = {node: -1 for node in self.nodes}\n",
    "\n",
    "        for _ in range(0, len(self.nodes)-1):\n",
    "            for u, v, cost in self.edges:\n",
    "                #print(u, v, cost)\n",
    "                if dist[v] > dist[u] + cost:\n",
    "                    dist[v] = dist[u] + cost\n",
    "                    parent[v] = u\n",
    "        \n",
    "        # check neg cycle\n",
    "        C = None\n",
    "        for u,v,cost in self.edges:\n",
    "            if dist[v] > dist[u] + cost:\n",
    "                C = v\n",
    "                \n",
    "        if C != None:\n",
    "            # cycle\n",
    "            for _ in range(len(self.nodes)):\n",
    "                if parent[C] == -1:\n",
    "                    return False\n",
    "                C = parent[C]\n",
    "            cycle = []\n",
    "            v = C\n",
    "            while True:\n",
    "                cycle.append(v)\n",
    "                if (v == C and len(cycle) > 1):\n",
    "                    break\n",
    "                else:\n",
    "                    v = parent[v]\n",
    "            cycle.reverse()\n",
    "\n",
    "            return cycle\n",
    "        else:\n",
    "            return False "
   ]
  },
  {
   "cell_type": "code",
   "execution_count": null,
   "metadata": {},
   "outputs": [],
   "source": [
    "num_cycles = 0\n",
    "for i, row in valid_periods.iterrows():\n",
    "    G = Graph(nodes=nodes)\n",
    "    \n",
    "    ask = row[\"ask\"]\n",
    "    bid = row[\"bid\"]\n",
    "    for src, dst in ask.index:\n",
    "        cost1 = bid[(src, dst)]\n",
    "        cost2 = 1 / ask[(src, dst)]\n",
    "        G.add_edge(src, dst, cost1)\n",
    "        G.add_edge(dst, src, cost2)\n",
    "\n",
    "    cycle = G.bellman_ford()\n",
    "    if cycle:\n",
    "        print(f\"Negative weight cycle detected at bin time {i} | Cycle: {cycle}\")\n",
    "        prev = cycle[0]\n",
    "        product = 1\n",
    "        for curr in cycle[1:]:\n",
    "            if (prev, curr) in bid.index:\n",
    "                rate = bid[(prev, curr)]\n",
    "                product *= rate\n",
    "            else:\n",
    "                rate = 1 / ask[(curr, prev)]\n",
    "                product *= rate            \n",
    "            prev = curr\n",
    "        \n",
    "        if product > 1:\n",
    "            print(f\"Return: {product}\")\n",
    "            num_cycles+=1\n",
    "\n",
    "print(f\"Num cycles detected = {num_cycles}\")"
   ]
  }
 ],
 "metadata": {
  "kernelspec": {
   "display_name": "Python 3.9.2 64-bit",
   "language": "python",
   "name": "python3"
  },
  "language_info": {
   "codemirror_mode": {
    "name": "ipython",
    "version": 3
   },
   "file_extension": ".py",
   "mimetype": "text/x-python",
   "name": "python",
   "nbconvert_exporter": "python",
   "pygments_lexer": "ipython3",
   "version": "3.9.2"
  },
  "orig_nbformat": 4,
  "vscode": {
   "interpreter": {
    "hash": "767d51c1340bd893661ea55ea3124f6de3c7a262a8b4abca0554b478b1e2ff90"
   }
  }
 },
 "nbformat": 4,
 "nbformat_minor": 2
}
